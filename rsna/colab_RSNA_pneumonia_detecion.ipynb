{
  "nbformat": 4,
  "nbformat_minor": 0,
  "metadata": {
    "colab": {
      "name": "RSNA Pneumonia Detecion.ipynb",
      "version": "0.3.2",
      "provenance": [],
      "collapsed_sections": [],
      "include_colab_link": true
    },
    "kernelspec": {
      "name": "python3",
      "display_name": "Python 3"
    }
  },
  "cells": [
    {
      "cell_type": "markdown",
      "metadata": {
        "id": "view-in-github",
        "colab_type": "text"
      },
      "source": [
        "[View in Colaboratory](https://colab.research.google.com/github/samik-saha/kaggle/blob/master/rsna/colab_RSNA_pneumonia_detecion.ipynb)"
      ]
    },
    {
      "metadata": {
        "id": "bXGN4bO50f5D",
        "colab_type": "code",
        "colab": {}
      },
      "cell_type": "code",
      "source": [
        "!pip install kaggle\n",
        "!export KAGGLE_USERNAME=\"samik01\";export KAGGLE_KEY=\"77cc422dd5d3f614b716fd353fe4e034\";kaggle competitions download -c rsna-pneumonia-detection-challenge"
      ],
      "execution_count": 0,
      "outputs": []
    },
    {
      "metadata": {
        "id": "4Sy3r9d60cfZ",
        "colab_type": "code",
        "colab": {}
      },
      "cell_type": "code",
      "source": [
        "!unzip stage_1_train_images.zip -d stage_1_train_images\n",
        "!unzip stage_1_train_labels.csv.zip\n",
        "!unzip stage_1_detailed_class_info.csv.zip"
      ],
      "execution_count": 0,
      "outputs": []
    },
    {
      "metadata": {
        "id": "HXg-KKQW097V",
        "colab_type": "code",
        "colab": {
          "base_uri": "https://localhost:8080/",
          "height": 36
        },
        "outputId": "2aec52fc-d1cb-4079-e9e7-6a9ab091d54e"
      },
      "cell_type": "code",
      "source": [
        "!ls"
      ],
      "execution_count": 2,
      "outputs": [
        {
          "output_type": "stream",
          "text": [
            "sample_data\r\n"
          ],
          "name": "stdout"
        }
      ]
    },
    {
      "metadata": {
        "id": "oR9K88SNvX3Z",
        "colab_type": "code",
        "colab": {
          "base_uri": "https://localhost:8080/",
          "height": 131
        },
        "outputId": "4dd5add8-a10a-4068-ebab-e70ccac3546b"
      },
      "cell_type": "code",
      "source": [
        "!pip install pydicom\n",
        "import pandas as pd\n",
        "import pydicom, numpy as np\n",
        "import matplotlib.pyplot as plt"
      ],
      "execution_count": 13,
      "outputs": [
        {
          "output_type": "stream",
          "text": [
            "Collecting pydicom\n",
            "\u001b[?25l  Downloading https://files.pythonhosted.org/packages/56/e1/7185572caa15620decf8d7f9492f7406ac221f878cc82e922fc36a0e5aac/pydicom-1.1.0-1-py2.py3-none-any.whl (6.7MB)\n",
            "\u001b[K    100% |████████████████████████████████| 6.7MB 3.0MB/s \n",
            "\u001b[?25hInstalling collected packages: pydicom\n",
            "Successfully installed pydicom-1.1.0\n"
          ],
          "name": "stdout"
        }
      ]
    },
    {
      "metadata": {
        "id": "VuQnno-U4vHU",
        "colab_type": "code",
        "colab": {}
      },
      "cell_type": "code",
      "source": [
        "def parse_data(df):\n",
        "    extract_box = lambda row: [row['y'], row['x'], row['height'], row['width']]\n",
        "    parsed = {}\n",
        "    \n",
        "    for n, row in df.iterrows():\n",
        "        pid = row['patientId']\n",
        "        if pid not in parsed:\n",
        "            parsed[pid] = {\n",
        "                'dicom':'./stage_1_train_images/%s.dcm' % pid,\n",
        "                'label': row['Target'],\n",
        "                'boxes': []\n",
        "            }\n",
        "            \n",
        "        if row['Target'] == 1:\n",
        "            parsed[pid]['boxes'].append(extract_box(row))\n",
        "                \n",
        "    return parsed\n",
        "\n",
        "\n",
        "def draw(data):\n",
        "    \"\"\"\n",
        "    Method to draw image for single patient\n",
        "    \"\"\"\n",
        "    d = pydicom.read_file(data['dicom'])\n",
        "    im = d.pixel_array\n",
        "    \n",
        "    # Convert from single-channel grayscale to 3-channel RGB\n",
        "    im = np.stack([im] * 3, axis=2)\n",
        "    \n",
        "    # --- Add boxes with random color if present\n",
        "    for box in data['boxes']:\n",
        "        rgb = np.floor(np.random.rand(3) * 256).astype('int')\n",
        "        im = overlay_box(im=im, box=box, rgb=rgb, stroke=6)\n",
        "    \n",
        "    plt.imshow(im, cmap=plt.cm.gist_gray)\n",
        "    plt.axis('off')\n",
        "\n",
        "    \n",
        "def overlay_box(im, box, rgb, stroke=1):\n",
        "    box = [int(b) for b in box]\n",
        "    y1, x1, height, width = box\n",
        "    y2 = y1 + height\n",
        "    x2 = x1 + width\n",
        "    \n",
        "    im[y1:y1 + stroke, x1:x2] = rgb\n",
        "    im[y2:y2 + stroke, x1:x2] = rgb\n",
        "    im[y1:y2, x1:x1 + stroke] = rgb\n",
        "    im[y1:y2, x2:x2 + stroke] = rgb\n",
        "    \n",
        "    return im"
      ],
      "execution_count": 0,
      "outputs": []
    },
    {
      "metadata": {
        "id": "-Gpn5yQr5mhH",
        "colab_type": "code",
        "colab": {}
      },
      "cell_type": "code",
      "source": [
        "df = pd.read_csv('stage_1_train_labels.csv')\n",
        "patient_class = pd.read_csv('stage_1_detailed_class_info.csv', index_col=0)\n",
        "parsed = parse_data(df)"
      ],
      "execution_count": 0,
      "outputs": []
    },
    {
      "metadata": {
        "id": "GAAf44iS5r3P",
        "colab_type": "code",
        "colab": {
          "base_uri": "https://localhost:8080/",
          "height": 176
        },
        "outputId": "7b1f6adb-ad04-428d-97fd-4adc2571082a"
      },
      "cell_type": "code",
      "source": [
        "draw(parsed[df['patientId'][8]])"
      ],
      "execution_count": 1,
      "outputs": [
        {
          "output_type": "error",
          "ename": "NameError",
          "evalue": "ignored",
          "traceback": [
            "\u001b[0;31m---------------------------------------------------------------------------\u001b[0m",
            "\u001b[0;31mNameError\u001b[0m                                 Traceback (most recent call last)",
            "\u001b[0;32m<ipython-input-1-535e839ba342>\u001b[0m in \u001b[0;36m<module>\u001b[0;34m()\u001b[0m\n\u001b[0;32m----> 1\u001b[0;31m \u001b[0mdraw\u001b[0m\u001b[0;34m(\u001b[0m\u001b[0mparsed\u001b[0m\u001b[0;34m[\u001b[0m\u001b[0mdf\u001b[0m\u001b[0;34m[\u001b[0m\u001b[0;34m'patientId'\u001b[0m\u001b[0;34m]\u001b[0m\u001b[0;34m[\u001b[0m\u001b[0;36m8\u001b[0m\u001b[0;34m]\u001b[0m\u001b[0;34m]\u001b[0m\u001b[0;34m)\u001b[0m\u001b[0;34m\u001b[0m\u001b[0m\n\u001b[0m",
            "\u001b[0;31mNameError\u001b[0m: name 'draw' is not defined"
          ]
        }
      ]
    },
    {
      "metadata": {
        "id": "rC5nFzSq6dzD",
        "colab_type": "code",
        "colab": {}
      },
      "cell_type": "code",
      "source": [
        ""
      ],
      "execution_count": 0,
      "outputs": []
    }
  ]
}