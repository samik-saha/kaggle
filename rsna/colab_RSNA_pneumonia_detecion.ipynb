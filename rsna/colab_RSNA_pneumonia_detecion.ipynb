{
  "nbformat": 4,
  "nbformat_minor": 0,
  "metadata": {
    "colab": {
      "name": "RSNA Pneumonia Detecion.ipynb",
      "version": "0.3.2",
      "provenance": [],
      "collapsed_sections": [],
      "include_colab_link": true
    },
    "kernelspec": {
      "name": "python3",
      "display_name": "Python 3"
    }
  },
  "cells": [
    {
      "cell_type": "markdown",
      "metadata": {
        "id": "view-in-github",
        "colab_type": "text"
      },
      "source": [
        "[View in Colaboratory](https://colab.research.google.com/github/samik-saha/kaggle/blob/master/rsna/colab_RSNA_pneumonia_detecion.ipynb)"
      ]
    },
    {
      "metadata": {
        "id": "bXGN4bO50f5D",
        "colab_type": "code",
        "colab": {
          "base_uri": "https://localhost:8080/",
          "height": 808
        },
        "outputId": "88435c4b-e10e-42dd-9733-68736ebeb9c8"
      },
      "cell_type": "code",
      "source": [
        "!pip install kaggle\n",
        "!export KAGGLE_USERNAME=\"samik01\";export KAGGLE_KEY=\"77cc422dd5d3f614b716fd353fe4e034\";kaggle competitions download -c rsna-pneumonia-detection-challenge"
      ],
      "execution_count": 2,
      "outputs": [
        {
          "output_type": "stream",
          "text": [
            "Collecting kaggle\n",
            "\u001b[?25l  Downloading https://files.pythonhosted.org/packages/c6/78/832b9a9ec6b3baf8ec566e1f0a695f2fd08d2c94a6797257a106304bfc3c/kaggle-1.4.7.1.tar.gz (52kB)\n",
            "\u001b[K    100% |████████████████████████████████| 61kB 2.3MB/s \n",
            "\u001b[?25hRequirement already satisfied: urllib3<1.23.0,>=1.15 in /usr/local/lib/python3.6/dist-packages (from kaggle) (1.22)\n",
            "Requirement already satisfied: six>=1.10 in /usr/local/lib/python3.6/dist-packages (from kaggle) (1.11.0)\n",
            "Requirement already satisfied: certifi in /usr/local/lib/python3.6/dist-packages (from kaggle) (2018.8.24)\n",
            "Requirement already satisfied: python-dateutil in /usr/local/lib/python3.6/dist-packages (from kaggle) (2.5.3)\n",
            "Requirement already satisfied: requests in /usr/local/lib/python3.6/dist-packages (from kaggle) (2.18.4)\n",
            "Requirement already satisfied: tqdm in /usr/local/lib/python3.6/dist-packages (from kaggle) (4.25.0)\n",
            "Collecting python-slugify (from kaggle)\n",
            "  Downloading https://files.pythonhosted.org/packages/00/ad/c778a6df614b6217c30fe80045b365bfa08b5dd3cb02e8b37a6d25126781/python-slugify-1.2.6.tar.gz\n",
            "Requirement already satisfied: idna<2.7,>=2.5 in /usr/local/lib/python3.6/dist-packages (from requests->kaggle) (2.6)\n",
            "Requirement already satisfied: chardet<3.1.0,>=3.0.2 in /usr/local/lib/python3.6/dist-packages (from requests->kaggle) (3.0.4)\n",
            "Collecting Unidecode>=0.04.16 (from python-slugify->kaggle)\n",
            "\u001b[?25l  Downloading https://files.pythonhosted.org/packages/59/ef/67085e30e8bbcdd76e2f0a4ad8151c13a2c5bce77c85f8cad6e1f16fb141/Unidecode-1.0.22-py2.py3-none-any.whl (235kB)\n",
            "\u001b[K    100% |████████████████████████████████| 235kB 4.7MB/s \n",
            "\u001b[?25hBuilding wheels for collected packages: kaggle, python-slugify\n",
            "  Running setup.py bdist_wheel for kaggle ... \u001b[?25l-\b \b\\\b \bdone\n",
            "\u001b[?25h  Stored in directory: /root/.cache/pip/wheels/44/2c/df/22a6eeb780c36c28190faef6252b739fdc47145fd87a6642d4\n",
            "  Running setup.py bdist_wheel for python-slugify ... \u001b[?25l-\b \bdone\n",
            "\u001b[?25h  Stored in directory: /root/.cache/pip/wheels/e3/65/da/2045deea3098ed7471eca0e2460cfbd3fdfe8c1d6fa6fcac92\n",
            "Successfully built kaggle python-slugify\n",
            "Installing collected packages: Unidecode, python-slugify, kaggle\n",
            "Successfully installed Unidecode-1.0.22 kaggle-1.4.7.1 python-slugify-1.2.6\n",
            "Downloading GCP%20Credits%20Request%20Link%20-%20RSNA.txt to /content\n",
            "  0% 0.00/55.0 [00:00<?, ?B/s]\n",
            "100% 55.0/55.0 [00:00<00:00, 38.3kB/s]\n",
            "Downloading stage_1_detailed_class_info.csv.zip to /content\n",
            "  0% 0.00/561k [00:00<?, ?B/s]\n",
            "100% 561k/561k [00:00<00:00, 91.7MB/s]\n",
            "Downloading stage_1_sample_submission.csv to /content\n",
            "  0% 0.00/51.8k [00:00<?, ?B/s]\n",
            "100% 51.8k/51.8k [00:00<00:00, 43.2MB/s]\n",
            "Downloading stage_1_train_labels.csv.zip to /content\n",
            "  0% 0.00/634k [00:00<?, ?B/s]\n",
            "100% 634k/634k [00:00<00:00, 113MB/s]\n",
            "Downloading stage_1_test_images.zip to /content\n",
            " 93% 117M/126M [00:00<00:00, 102MB/s]  \n",
            "100% 126M/126M [00:00<00:00, 176MB/s]\n",
            "Downloading stage_1_train_images.zip to /content\n",
            "100% 3.17G/3.17G [01:30<00:00, 13.0MB/s]\n",
            "100% 3.17G/3.17G [01:30<00:00, 37.5MB/s]\n"
          ],
          "name": "stdout"
        }
      ]
    },
    {
      "metadata": {
        "id": "4Sy3r9d60cfZ",
        "colab_type": "code",
        "colab": {}
      },
      "cell_type": "code",
      "source": [
        "!unzip stage_1_train_images.zip -d stage_1_train_images>/dev/null\n",
        "!unzip stage_1_train_labels.csv.zip>/dev/null\n",
        "!unzip stage_1_detailed_class_info.csv.zip>/dev/null"
      ],
      "execution_count": 0,
      "outputs": []
    },
    {
      "metadata": {
        "id": "HXg-KKQW097V",
        "colab_type": "code",
        "colab": {
          "base_uri": "https://localhost:8080/",
          "height": 109
        },
        "outputId": "6b1e8e1d-cb32-4873-cfd3-cf2101b5ade0"
      },
      "cell_type": "code",
      "source": [
        "!ls"
      ],
      "execution_count": 4,
      "outputs": [
        {
          "output_type": "stream",
          "text": [
            "GCP%20Credits%20Request%20Link%20-%20RSNA.txt  stage_1_test_images.zip\n",
            "sample_data\t\t\t\t       stage_1_train_images\n",
            "stage_1_detailed_class_info.csv\t\t       stage_1_train_images.zip\n",
            "stage_1_detailed_class_info.csv.zip\t       stage_1_train_labels.csv\n",
            "stage_1_sample_submission.csv\t\t       stage_1_train_labels.csv.zip\n"
          ],
          "name": "stdout"
        }
      ]
    },
    {
      "metadata": {
        "id": "oR9K88SNvX3Z",
        "colab_type": "code",
        "colab": {
          "base_uri": "https://localhost:8080/",
          "height": 129
        },
        "outputId": "2a8a3db3-1410-4921-cc34-5c01cdc7b5fc"
      },
      "cell_type": "code",
      "source": [
        "!pip install pydicom\n",
        "import pandas as pd\n",
        "import pydicom, numpy as np\n",
        "import matplotlib.pyplot as plt"
      ],
      "execution_count": 5,
      "outputs": [
        {
          "output_type": "stream",
          "text": [
            "Collecting pydicom\n",
            "\u001b[?25l  Downloading https://files.pythonhosted.org/packages/56/e1/7185572caa15620decf8d7f9492f7406ac221f878cc82e922fc36a0e5aac/pydicom-1.1.0-1-py2.py3-none-any.whl (6.7MB)\n",
            "\u001b[K    100% |████████████████████████████████| 6.7MB 4.9MB/s \n",
            "\u001b[?25hInstalling collected packages: pydicom\n",
            "Successfully installed pydicom-1.1.0\n"
          ],
          "name": "stdout"
        }
      ]
    },
    {
      "metadata": {
        "id": "VuQnno-U4vHU",
        "colab_type": "code",
        "colab": {}
      },
      "cell_type": "code",
      "source": [
        "def parse_data(df):\n",
        "    extract_box = lambda row: [row['y'], row['x'], row['height'], row['width']]\n",
        "    parsed = {}\n",
        "    \n",
        "    for n, row in df.iterrows():\n",
        "        pid = row['patientId']\n",
        "        if pid not in parsed:\n",
        "            parsed[pid] = {\n",
        "                'dicom':'./stage_1_train_images/%s.dcm' % pid,\n",
        "                'label': row['Target'],\n",
        "                'boxes': []\n",
        "            }\n",
        "            \n",
        "        if row['Target'] == 1:\n",
        "            parsed[pid]['boxes'].append(extract_box(row))\n",
        "                \n",
        "    return parsed\n",
        "\n",
        "\n",
        "def draw(data):\n",
        "    \"\"\"\n",
        "    Method to draw image for single patient\n",
        "    \"\"\"\n",
        "    d = pydicom.read_file(data['dicom'])\n",
        "    im = d.pixel_array\n",
        "    \n",
        "    # Convert from single-channel grayscale to 3-channel RGB\n",
        "    im = np.stack([im] * 3, axis=2)\n",
        "    \n",
        "    # --- Add boxes with random color if present\n",
        "    for box in data['boxes']:\n",
        "        rgb = np.floor(np.random.rand(3) * 256).astype('int')\n",
        "        im = overlay_box(im=im, box=box, rgb=rgb, stroke=6)\n",
        "    \n",
        "    plt.imshow(im, cmap=plt.cm.gist_gray)\n",
        "    plt.axis('off')\n",
        "\n",
        "    \n",
        "def overlay_box(im, box, rgb, stroke=1):\n",
        "    box = [int(b) for b in box]\n",
        "    y1, x1, height, width = box\n",
        "    y2 = y1 + height\n",
        "    x2 = x1 + width\n",
        "    \n",
        "    im[y1:y1 + stroke, x1:x2] = rgb\n",
        "    im[y2:y2 + stroke, x1:x2] = rgb\n",
        "    im[y1:y2, x1:x1 + stroke] = rgb\n",
        "    im[y1:y2, x2:x2 + stroke] = rgb\n",
        "    \n",
        "    return im"
      ],
      "execution_count": 0,
      "outputs": []
    },
    {
      "metadata": {
        "id": "-Gpn5yQr5mhH",
        "colab_type": "code",
        "colab": {}
      },
      "cell_type": "code",
      "source": [
        "df = pd.read_csv('stage_1_train_labels.csv')\n",
        "patient_class = pd.read_csv('stage_1_detailed_class_info.csv', index_col=0)\n",
        "parsed = parse_data(df)"
      ],
      "execution_count": 0,
      "outputs": []
    },
    {
      "metadata": {
        "id": "GAAf44iS5r3P",
        "colab_type": "code",
        "colab": {
          "base_uri": "https://localhost:8080/",
          "height": 429
        },
        "outputId": "19e0d7c9-1cfa-4a16-e4a8-8fddd4ccb4a0"
      },
      "cell_type": "code",
      "source": [
        "draw(parsed[df['patientId'][8]])"
      ],
      "execution_count": 16,
      "outputs": [
        {
          "output_type": "error",
          "ename": "AxisError",
          "evalue": "ignored",
          "traceback": [
            "\u001b[0;31m---------------------------------------------------------------------------\u001b[0m",
            "\u001b[0;31mAxisError\u001b[0m                                 Traceback (most recent call last)",
            "\u001b[0;32m<ipython-input-16-535e839ba342>\u001b[0m in \u001b[0;36m<module>\u001b[0;34m()\u001b[0m\n\u001b[0;32m----> 1\u001b[0;31m \u001b[0mdraw\u001b[0m\u001b[0;34m(\u001b[0m\u001b[0mparsed\u001b[0m\u001b[0;34m[\u001b[0m\u001b[0mdf\u001b[0m\u001b[0;34m[\u001b[0m\u001b[0;34m'patientId'\u001b[0m\u001b[0;34m]\u001b[0m\u001b[0;34m[\u001b[0m\u001b[0;36m8\u001b[0m\u001b[0;34m]\u001b[0m\u001b[0;34m]\u001b[0m\u001b[0;34m)\u001b[0m\u001b[0;34m\u001b[0m\u001b[0m\n\u001b[0m",
            "\u001b[0;32m<ipython-input-14-349d6e35d499>\u001b[0m in \u001b[0;36mdraw\u001b[0;34m(data)\u001b[0m\n\u001b[1;32m     26\u001b[0m \u001b[0;34m\u001b[0m\u001b[0m\n\u001b[1;32m     27\u001b[0m     \u001b[0;31m# Convert from single-channel grayscale to 3-channel RGB\u001b[0m\u001b[0;34m\u001b[0m\u001b[0;34m\u001b[0m\u001b[0m\n\u001b[0;32m---> 28\u001b[0;31m     \u001b[0mim\u001b[0m \u001b[0;34m=\u001b[0m \u001b[0mnp\u001b[0m\u001b[0;34m.\u001b[0m\u001b[0mstack\u001b[0m\u001b[0;34m(\u001b[0m\u001b[0;34m[\u001b[0m\u001b[0mim\u001b[0m\u001b[0;34m]\u001b[0m \u001b[0;34m*\u001b[0m \u001b[0;36m3\u001b[0m\u001b[0;34m,\u001b[0m \u001b[0maxis\u001b[0m\u001b[0;34m=\u001b[0m\u001b[0;36m2\u001b[0m\u001b[0;34m)\u001b[0m\u001b[0;34m\u001b[0m\u001b[0m\n\u001b[0m\u001b[1;32m     29\u001b[0m \u001b[0;34m\u001b[0m\u001b[0m\n\u001b[1;32m     30\u001b[0m     \u001b[0;31m# --- Add boxes with random color if present\u001b[0m\u001b[0;34m\u001b[0m\u001b[0;34m\u001b[0m\u001b[0m\n",
            "\u001b[0;32m/usr/local/lib/python3.6/dist-packages/numpy/core/shape_base.py\u001b[0m in \u001b[0;36mstack\u001b[0;34m(arrays, axis, out)\u001b[0m\n\u001b[1;32m    354\u001b[0m \u001b[0;34m\u001b[0m\u001b[0m\n\u001b[1;32m    355\u001b[0m     \u001b[0mresult_ndim\u001b[0m \u001b[0;34m=\u001b[0m \u001b[0marrays\u001b[0m\u001b[0;34m[\u001b[0m\u001b[0;36m0\u001b[0m\u001b[0;34m]\u001b[0m\u001b[0;34m.\u001b[0m\u001b[0mndim\u001b[0m \u001b[0;34m+\u001b[0m \u001b[0;36m1\u001b[0m\u001b[0;34m\u001b[0m\u001b[0m\n\u001b[0;32m--> 356\u001b[0;31m     \u001b[0maxis\u001b[0m \u001b[0;34m=\u001b[0m \u001b[0mnormalize_axis_index\u001b[0m\u001b[0;34m(\u001b[0m\u001b[0maxis\u001b[0m\u001b[0;34m,\u001b[0m \u001b[0mresult_ndim\u001b[0m\u001b[0;34m)\u001b[0m\u001b[0;34m\u001b[0m\u001b[0m\n\u001b[0m\u001b[1;32m    357\u001b[0m \u001b[0;34m\u001b[0m\u001b[0m\n\u001b[1;32m    358\u001b[0m     \u001b[0msl\u001b[0m \u001b[0;34m=\u001b[0m \u001b[0;34m(\u001b[0m\u001b[0mslice\u001b[0m\u001b[0;34m(\u001b[0m\u001b[0;32mNone\u001b[0m\u001b[0;34m)\u001b[0m\u001b[0;34m,\u001b[0m\u001b[0;34m)\u001b[0m \u001b[0;34m*\u001b[0m \u001b[0maxis\u001b[0m \u001b[0;34m+\u001b[0m \u001b[0;34m(\u001b[0m\u001b[0m_nx\u001b[0m\u001b[0;34m.\u001b[0m\u001b[0mnewaxis\u001b[0m\u001b[0;34m,\u001b[0m\u001b[0;34m)\u001b[0m\u001b[0;34m\u001b[0m\u001b[0m\n",
            "\u001b[0;31mAxisError\u001b[0m: axis 2 is out of bounds for array of dimension 1"
          ]
        }
      ]
    },
    {
      "metadata": {
        "id": "rC5nFzSq6dzD",
        "colab_type": "code",
        "colab": {
          "base_uri": "https://localhost:8080/",
          "height": 109
        },
        "outputId": "e1d30371-0597-4250-997e-c1c338e28369"
      },
      "cell_type": "code",
      "source": [
        "!pip3 install https://github.com/OlafenwaMoses/ImageAI/releases/download/2.0.2/imageai-2.0.2-py3-none-any.whl"
      ],
      "execution_count": 9,
      "outputs": [
        {
          "output_type": "stream",
          "text": [
            "Collecting imageai==2.0.2 from https://github.com/OlafenwaMoses/ImageAI/releases/download/2.0.2/imageai-2.0.2-py3-none-any.whl\n",
            "\u001b[?25l  Downloading https://github.com/OlafenwaMoses/ImageAI/releases/download/2.0.2/imageai-2.0.2-py3-none-any.whl (151kB)\n",
            "\u001b[K    100% |████████████████████████████████| 153kB 2.5MB/s \n",
            "\u001b[?25hInstalling collected packages: imageai\n",
            "Successfully installed imageai-2.0.2\n"
          ],
          "name": "stdout"
        }
      ]
    },
    {
      "metadata": {
        "id": "xpJFEBNx0cO5",
        "colab_type": "code",
        "colab": {
          "base_uri": "https://localhost:8080/",
          "height": 35
        },
        "outputId": "ec70468e-f10d-413f-ca29-89ae018be828"
      },
      "cell_type": "code",
      "source": [
        "import keras"
      ],
      "execution_count": 12,
      "outputs": [
        {
          "output_type": "stream",
          "text": [
            "Using TensorFlow backend.\n"
          ],
          "name": "stderr"
        }
      ]
    },
    {
      "metadata": {
        "id": "AlDdhFKNntVy",
        "colab_type": "code",
        "colab": {}
      },
      "cell_type": "code",
      "source": [
        "class generator(keras.utils.Sequence):\n",
        "  def __init__(self, data, batch_size=32, img_size=256, shuffle=True, augment=False, predict=False):\n",
        "    self.data = data\n",
        "    self.batch_size = batch_size\n",
        "    self.image_size = image_size\n",
        "    self.shuffle = shuffle\n",
        "    self.augment = augment\n",
        "    self.predict = predict\n",
        "    self.on_epoch_end()\n",
        "  \n",
        "  def __load__(self, example):\n",
        "    img = pydicom.dcmread(example['dicom']).pixel_array\n",
        "    msk = np.zeros(img.shape)\n",
        "    for box in example['boxes']:\n",
        "      box = [int(b) for b in box]\n",
        "      y, x, h, w = box\n",
        "      msk[y:y+h, x:x+w] = 1\n",
        "    \n",
        "    # resize both image and mask\n",
        "    img = resize(img, (self.image_size, self.image_size), mode = 'reflect')\n",
        "    msk = resize(msk, (self.image_size, self.image_size), mode = 'reflect')\n",
        "    \n",
        "    # if augment flip horizontally half the time\n",
        "    if self.augment and random.random()>0.5:\n",
        "      img = np.fliplr(img)\n",
        "      msk = np.fliplr(msk)\n",
        "      \n",
        "    img = np.expand_dims(img, -1)\n",
        "    msk = np.expand_dims(msk, -1)\n",
        "  \n",
        "  def __loadpredict__(self, example):\n",
        "    img = pydicom.dcmread(example['dicom']).pixel_array\n",
        "    img = resize(img, (self.image_size, self.image_size), mode='reflect')\n",
        "    img = np.expand_dims(img, -1)\n",
        "    \n",
        "  def __getitem__(self, index):\n",
        "    "
      ],
      "execution_count": 0,
      "outputs": []
    },
    {
      "metadata": {
        "id": "rzWaFh9iuNZb",
        "colab_type": "code",
        "colab": {}
      },
      "cell_type": "code",
      "source": [
        ""
      ],
      "execution_count": 0,
      "outputs": []
    }
  ]
}