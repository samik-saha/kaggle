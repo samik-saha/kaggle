{
 "cells": [
  {
   "cell_type": "code",
   "execution_count": 2,
   "metadata": {},
   "outputs": [
    {
     "name": "stderr",
     "output_type": "stream",
     "text": [
      "C:\\ProgramData\\Anaconda3\\lib\\site-packages\\h5py\\__init__.py:36: FutureWarning: Conversion of the second argument of issubdtype from `float` to `np.floating` is deprecated. In future, it will be treated as `np.float64 == np.dtype(float).type`.\n",
      "  from ._conv import register_converters as _register_converters\n",
      "Using TensorFlow backend.\n"
     ]
    }
   ],
   "source": [
    "from keras.preprocessing.image import ImageDataGenerator\n",
    "from keras.applications.inception_v3 import preprocess_input\n",
    "from keras.utils.data_utils import GeneratorEnqueuer\n",
    "import matplotlib.pyplot as plt\n",
    "import pandas as pd \n",
    "import numpy as np \n",
    "import math, os\n",
    "\n",
    "%matplotlib inline"
   ]
  },
  {
   "cell_type": "code",
   "execution_count": 6,
   "metadata": {},
   "outputs": [],
   "source": [
    "from imageai.Detection import ObjectDetection\n",
    "model_weight_path = \"C:/Users/220222/Downloads/resnet50_coco_best_v2.0.1.h5\"\n",
    "\n",
    "execution_path = os.getcwd()\n",
    "\n",
    "execution_path = os.getcwd()\n",
    "detector = ObjectDetection()\n",
    "detector.setModelTypeAsRetinaNet()\n",
    "detector.setModelPath(model_weight_path)\n",
    "detector.loadModel()"
   ]
  },
  {
   "cell_type": "code",
   "execution_count": 7,
   "metadata": {},
   "outputs": [],
   "source": [
    "detections = detector.detectObjectsFromImage(input_image=os.path.join(execution_path , \"65110081.jpg\"), output_image_path=os.path.join(execution_path , \"image2new.jpg\"), minimum_percentage_probability=30)"
   ]
  },
  {
   "cell_type": "code",
   "execution_count": null,
   "metadata": {},
   "outputs": [],
   "source": [
    "for i in range(n_rounds):\n",
    "    batch = next(img_generator)\n",
    "    for j, prediction in enumerate(batch):\n",
    "        image = filenames[i * batch_size + j]\n",
    "        detections = detector.detectObjectsFromImage(input_image=image_path+image, output_image_path=\"image_with_box.png\", minimum_percentage_probability = 75)        \n",
    "        pred_str = \"\"\n",
    "        labels = \"\"\n",
    "        for eachObject in detections:    \n",
    "            if eachObject[\"name\"] in rev:\n",
    "                pred_str += rev[eachObject[\"name\"]] + \" \" + str(float(eachObject[\"percentage_probability\"])/100) + \" 0.1 0.1 0.9 0.9\"\n",
    "                pred_str += \" \"\n",
    "                labels += eachObject['name'] + \", \" + str(round(float(eachObject['percentage_probability'])/100, 1)) \n",
    "                labels += \" | \"\n",
    "        if labels != \"\":\n",
    "            plt.figure(figsize=(12,12))\n",
    "            plt.imshow(plt.imread(\"image_with_box.png\"))\n",
    "            plt.show()\n",
    "\n",
    "            print (\"Labels Detected: \")\n",
    "            print (labels)\n",
    "            print ()\n",
    "            print (\"Prediction String: \")\n",
    "            print (pred_str)\n",
    "\n",
    "    if i == 10:\n",
    "        break"
   ]
  }
 ],
 "metadata": {
  "kernelspec": {
   "display_name": "Python 3",
   "language": "python",
   "name": "python3"
  },
  "language_info": {
   "codemirror_mode": {
    "name": "ipython",
    "version": 3
   },
   "file_extension": ".py",
   "mimetype": "text/x-python",
   "name": "python",
   "nbconvert_exporter": "python",
   "pygments_lexer": "ipython3",
   "version": "3.6.5"
  }
 },
 "nbformat": 4,
 "nbformat_minor": 2
}
